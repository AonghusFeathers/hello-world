{
 "cells": [
  {
   "cell_type": "code",
   "execution_count": 4,
   "id": "c3aa5305-8da4-4ed3-a716-1e2a7df4e618",
   "metadata": {},
   "outputs": [
    {
     "name": "stdin",
     "output_type": "stream",
     "text": [
      "What is your name? Elias\n",
      "What year were you born? 2007\n"
     ]
    },
    {
     "name": "stdout",
     "output_type": "stream",
     "text": [
      "Elias is 18 years old.\n"
     ]
    }
   ],
   "source": [
    "# take in name, birth year, and current year\n",
    "name = input(\"What is your name?\")\n",
    "birthYear = input(\"What year were you born?\")\n",
    "birthYear = int(birthYear)\n",
    "\n",
    "# do math\n",
    "age = 2025 - birthYear\n",
    "\n",
    "# output\n",
    "print(name, \"is\", age, \"years old.\")"
   ]
  },
  {
   "cell_type": "code",
   "execution_count": null,
   "id": "20ea9f71-395f-46ee-a073-8add0c8c4c99",
   "metadata": {},
   "outputs": [],
   "source": []
  }
 ],
 "metadata": {
  "kernelspec": {
   "display_name": "Python 3 (ipykernel)",
   "language": "python",
   "name": "python3"
  },
  "language_info": {
   "codemirror_mode": {
    "name": "ipython",
    "version": 3
   },
   "file_extension": ".py",
   "mimetype": "text/x-python",
   "name": "python",
   "nbconvert_exporter": "python",
   "pygments_lexer": "ipython3",
   "version": "3.11.13"
  }
 },
 "nbformat": 4,
 "nbformat_minor": 5
}
